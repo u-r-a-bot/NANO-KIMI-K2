{
 "cells": [
  {
   "cell_type": "code",
   "execution_count": 17,
   "id": "9f226d58",
   "metadata": {},
   "outputs": [
    {
     "name": "stderr",
     "output_type": "stream",
     "text": [
      "A new version of the following files was downloaded from https://huggingface.co/moonshotai/Kimi-K2-Instruct:\n",
      "- tokenization_kimi.py\n",
      ". Make sure to double-check they do not contain any added malicious code. To avoid downloading new versions of the code file, you can pin a revision.\n"
     ]
    }
   ],
   "source": [
    "from transformers import AutoTokenizer\n",
    "tokenizer = AutoTokenizer.from_pretrained(\"moonshotai/Kimi-K2-Instruct\",trust_remote_code = True)"
   ]
  },
  {
   "cell_type": "code",
   "execution_count": 18,
   "id": "04a96e9b",
   "metadata": {},
   "outputs": [
    {
     "data": {
      "text/plain": [
       "[19180, 1133, 67]"
      ]
     },
     "execution_count": 18,
     "metadata": {},
     "output_type": "execute_result"
    }
   ],
   "source": [
    "tokenizer.encode(\"Hello workd\")"
   ]
  },
  {
   "cell_type": "code",
   "execution_count": 19,
   "id": "22261499",
   "metadata": {},
   "outputs": [
    {
     "data": {
      "text/plain": [
       "'Hello workd'"
      ]
     },
     "execution_count": 19,
     "metadata": {},
     "output_type": "execute_result"
    }
   ],
   "source": [
    "tokenizer.decode([19180, 1133, 67])"
   ]
  },
  {
   "cell_type": "code",
   "execution_count": 20,
   "id": "5025628d",
   "metadata": {},
   "outputs": [
    {
     "data": {
      "text/plain": [
       "163842"
      ]
     },
     "execution_count": 20,
     "metadata": {},
     "output_type": "execute_result"
    }
   ],
   "source": [
    "tokenizer.vocab_size"
   ]
  },
  {
   "cell_type": "code",
   "execution_count": 21,
   "id": "86573866",
   "metadata": {},
   "outputs": [],
   "source": [
    "import torch \n",
    "from torch import nn"
   ]
  },
  {
   "cell_type": "code",
   "execution_count": 22,
   "id": "d63c480d",
   "metadata": {},
   "outputs": [],
   "source": [
    "class Embeddings(nn.Module):\n",
    "    def __init__(self, embed_dim = 768, vocab_size = 163842):\n",
    "        super().__init__()\n",
    "        self.table = nn.Embedding(num_embeddings=vocab_size, embedding_dim=embed_dim)\n",
    "    def forward(self, x:torch.Tensor) -> torch.Tensor:\n",
    "        return self.table(x)\n"
   ]
  },
  {
   "cell_type": "code",
   "execution_count": 23,
   "id": "babfa58b",
   "metadata": {},
   "outputs": [
    {
     "data": {
      "text/plain": [
       "torch.Size([3, 768])"
      ]
     },
     "execution_count": 23,
     "metadata": {},
     "output_type": "execute_result"
    }
   ],
   "source": [
    "embedder = Embeddings()\n",
    "embedder(torch.LongTensor(tokenizer.encode(\"Hello workd\"))).shape"
   ]
  },
  {
   "cell_type": "code",
   "execution_count": null,
   "id": "b9a24b9a",
   "metadata": {},
   "outputs": [
    {
     "name": "stdout",
     "output_type": "stream",
     "text": [
      "Collecting torchtune\n",
      "  Downloading torchtune-0.6.1-py3-none-any.whl.metadata (24 kB)\n",
      "Collecting torchdata==0.11.0 (from torchtune)\n",
      "  Downloading torchdata-0.11.0-py3-none-any.whl.metadata (6.3 kB)\n",
      "Requirement already satisfied: datasets in /opt/anaconda3/envs/ml-env/lib/python3.12/site-packages (from torchtune) (3.2.0)\n",
      "Requirement already satisfied: huggingface_hub[hf_transfer] in /opt/anaconda3/envs/ml-env/lib/python3.12/site-packages (from torchtune) (0.33.0)\n",
      "Requirement already satisfied: safetensors in /opt/anaconda3/envs/ml-env/lib/python3.12/site-packages (from torchtune) (0.4.5)\n",
      "Collecting kagglehub (from torchtune)\n",
      "  Downloading kagglehub-0.3.13-py3-none-any.whl.metadata (38 kB)\n",
      "Requirement already satisfied: sentencepiece in /opt/anaconda3/envs/ml-env/lib/python3.12/site-packages (from torchtune) (0.2.0)\n",
      "Requirement already satisfied: tiktoken in /opt/anaconda3/envs/ml-env/lib/python3.12/site-packages (from torchtune) (0.9.0)\n",
      "Requirement already satisfied: blobfile>=2 in /opt/anaconda3/envs/ml-env/lib/python3.12/site-packages (from torchtune) (3.0.0)\n",
      "Requirement already satisfied: tokenizers in /opt/anaconda3/envs/ml-env/lib/python3.12/site-packages (from torchtune) (0.21.0)\n",
      "Requirement already satisfied: numpy in /opt/anaconda3/envs/ml-env/lib/python3.12/site-packages (from torchtune) (1.26.4)\n",
      "Requirement already satisfied: tqdm in /opt/anaconda3/envs/ml-env/lib/python3.12/site-packages (from torchtune) (4.67.1)\n",
      "Requirement already satisfied: omegaconf in /opt/anaconda3/envs/ml-env/lib/python3.12/site-packages (from torchtune) (2.3.0)\n",
      "Requirement already satisfied: psutil in /opt/anaconda3/envs/ml-env/lib/python3.12/site-packages (from torchtune) (5.9.0)\n",
      "Requirement already satisfied: Pillow>=9.4.0 in /opt/anaconda3/envs/ml-env/lib/python3.12/site-packages (from torchtune) (11.2.1)\n",
      "Requirement already satisfied: urllib3>=1.25 in /opt/anaconda3/envs/ml-env/lib/python3.12/site-packages (from torchdata==0.11.0->torchtune) (2.4.0)\n",
      "Requirement already satisfied: requests in /opt/anaconda3/envs/ml-env/lib/python3.12/site-packages (from torchdata==0.11.0->torchtune) (2.32.4)\n",
      "Requirement already satisfied: torch>=2 in /opt/anaconda3/envs/ml-env/lib/python3.12/site-packages (from torchdata==0.11.0->torchtune) (2.5.1)\n",
      "Requirement already satisfied: pycryptodomex>=3.8 in /opt/anaconda3/envs/ml-env/lib/python3.12/site-packages (from blobfile>=2->torchtune) (3.23.0)\n",
      "Requirement already satisfied: lxml>=4.9 in /opt/anaconda3/envs/ml-env/lib/python3.12/site-packages (from blobfile>=2->torchtune) (5.3.0)\n",
      "Requirement already satisfied: filelock>=3.0 in /opt/anaconda3/envs/ml-env/lib/python3.12/site-packages (from blobfile>=2->torchtune) (3.16.1)\n",
      "Requirement already satisfied: pyarrow>=15.0.0 in /opt/anaconda3/envs/ml-env/lib/python3.12/site-packages (from datasets->torchtune) (19.0.1)\n",
      "Requirement already satisfied: dill<0.3.9,>=0.3.0 in /opt/anaconda3/envs/ml-env/lib/python3.12/site-packages (from datasets->torchtune) (0.3.8)\n",
      "Requirement already satisfied: pandas in /opt/anaconda3/envs/ml-env/lib/python3.12/site-packages (from datasets->torchtune) (2.2.3)\n",
      "Requirement already satisfied: xxhash in /opt/anaconda3/envs/ml-env/lib/python3.12/site-packages (from datasets->torchtune) (3.5.0)\n",
      "Requirement already satisfied: multiprocess<0.70.17 in /opt/anaconda3/envs/ml-env/lib/python3.12/site-packages (from datasets->torchtune) (0.70.16)\n",
      "Requirement already satisfied: fsspec<=2024.9.0,>=2023.1.0 in /opt/anaconda3/envs/ml-env/lib/python3.12/site-packages (from fsspec[http]<=2024.9.0,>=2023.1.0->datasets->torchtune) (2024.9.0)\n",
      "Requirement already satisfied: aiohttp in /opt/anaconda3/envs/ml-env/lib/python3.12/site-packages (from datasets->torchtune) (3.11.11)\n",
      "Requirement already satisfied: packaging in /opt/anaconda3/envs/ml-env/lib/python3.12/site-packages (from datasets->torchtune) (23.2)\n",
      "Requirement already satisfied: pyyaml>=5.1 in /opt/anaconda3/envs/ml-env/lib/python3.12/site-packages (from datasets->torchtune) (6.0.2)\n",
      "Requirement already satisfied: typing-extensions>=3.7.4.3 in /opt/anaconda3/envs/ml-env/lib/python3.12/site-packages (from huggingface_hub[hf_transfer]->torchtune) (4.13.2)\n",
      "Requirement already satisfied: hf-xet<2.0.0,>=1.1.2 in /opt/anaconda3/envs/ml-env/lib/python3.12/site-packages (from huggingface_hub[hf_transfer]->torchtune) (1.1.4)\n",
      "Collecting hf-transfer>=0.1.4 (from huggingface_hub[hf_transfer]->torchtune)\n",
      "  Downloading hf_transfer-0.1.9-cp38-abi3-macosx_11_0_arm64.whl.metadata (1.7 kB)\n",
      "Requirement already satisfied: antlr4-python3-runtime==4.9.* in /opt/anaconda3/envs/ml-env/lib/python3.12/site-packages (from omegaconf->torchtune) (4.9.3)\n",
      "Requirement already satisfied: regex>=2022.1.18 in /opt/anaconda3/envs/ml-env/lib/python3.12/site-packages (from tiktoken->torchtune) (2024.11.6)\n",
      "Requirement already satisfied: aiohappyeyeballs>=2.3.0 in /opt/anaconda3/envs/ml-env/lib/python3.12/site-packages (from aiohttp->datasets->torchtune) (2.6.1)\n",
      "Requirement already satisfied: aiosignal>=1.1.2 in /opt/anaconda3/envs/ml-env/lib/python3.12/site-packages (from aiohttp->datasets->torchtune) (1.3.2)\n",
      "Requirement already satisfied: attrs>=17.3.0 in /opt/anaconda3/envs/ml-env/lib/python3.12/site-packages (from aiohttp->datasets->torchtune) (25.3.0)\n",
      "Requirement already satisfied: frozenlist>=1.1.1 in /opt/anaconda3/envs/ml-env/lib/python3.12/site-packages (from aiohttp->datasets->torchtune) (1.5.0)\n",
      "Requirement already satisfied: multidict<7.0,>=4.5 in /opt/anaconda3/envs/ml-env/lib/python3.12/site-packages (from aiohttp->datasets->torchtune) (6.1.0)\n",
      "Requirement already satisfied: propcache>=0.2.0 in /opt/anaconda3/envs/ml-env/lib/python3.12/site-packages (from aiohttp->datasets->torchtune) (0.2.1)\n",
      "Requirement already satisfied: yarl<2.0,>=1.17.0 in /opt/anaconda3/envs/ml-env/lib/python3.12/site-packages (from aiohttp->datasets->torchtune) (1.20.1)\n",
      "Requirement already satisfied: charset_normalizer<4,>=2 in /opt/anaconda3/envs/ml-env/lib/python3.12/site-packages (from requests->torchdata==0.11.0->torchtune) (3.4.1)\n",
      "Requirement already satisfied: idna<4,>=2.5 in /opt/anaconda3/envs/ml-env/lib/python3.12/site-packages (from requests->torchdata==0.11.0->torchtune) (3.10)\n",
      "Requirement already satisfied: certifi>=2017.4.17 in /opt/anaconda3/envs/ml-env/lib/python3.12/site-packages (from requests->torchdata==0.11.0->torchtune) (2025.6.15)\n",
      "Requirement already satisfied: networkx in /opt/anaconda3/envs/ml-env/lib/python3.12/site-packages (from torch>=2->torchdata==0.11.0->torchtune) (3.4.2)\n",
      "Requirement already satisfied: jinja2 in /opt/anaconda3/envs/ml-env/lib/python3.12/site-packages (from torch>=2->torchdata==0.11.0->torchtune) (3.1.6)\n",
      "Requirement already satisfied: setuptools in /opt/anaconda3/envs/ml-env/lib/python3.12/site-packages (from torch>=2->torchdata==0.11.0->torchtune) (75.1.0)\n",
      "Requirement already satisfied: sympy==1.13.1 in /opt/anaconda3/envs/ml-env/lib/python3.12/site-packages (from torch>=2->torchdata==0.11.0->torchtune) (1.13.1)\n",
      "Requirement already satisfied: mpmath<1.4,>=1.1.0 in /opt/anaconda3/envs/ml-env/lib/python3.12/site-packages (from sympy==1.13.1->torch>=2->torchdata==0.11.0->torchtune) (1.3.0)\n",
      "Requirement already satisfied: python-dateutil>=2.8.2 in /opt/anaconda3/envs/ml-env/lib/python3.12/site-packages (from pandas->datasets->torchtune) (2.9.0.post0)\n",
      "Requirement already satisfied: pytz>=2020.1 in /opt/anaconda3/envs/ml-env/lib/python3.12/site-packages (from pandas->datasets->torchtune) (2025.2)\n",
      "Requirement already satisfied: tzdata>=2022.7 in /opt/anaconda3/envs/ml-env/lib/python3.12/site-packages (from pandas->datasets->torchtune) (2025.2)\n",
      "Requirement already satisfied: six>=1.5 in /opt/anaconda3/envs/ml-env/lib/python3.12/site-packages (from python-dateutil>=2.8.2->pandas->datasets->torchtune) (1.17.0)\n",
      "Requirement already satisfied: MarkupSafe>=2.0 in /opt/anaconda3/envs/ml-env/lib/python3.12/site-packages (from jinja2->torch>=2->torchdata==0.11.0->torchtune) (3.0.2)\n",
      "Downloading torchtune-0.6.1-py3-none-any.whl (910 kB)\n",
      "\u001b[2K   \u001b[90m━━━━━━━━━━━━━━━━━━━━━━━━━━━━━━━━━━━━━━━\u001b[0m \u001b[32m910.7/910.7 kB\u001b[0m \u001b[31m488.1 kB/s\u001b[0m eta \u001b[36m0:00:00\u001b[0ma \u001b[36m0:00:01\u001b[0m\n",
      "\u001b[?25hDownloading torchdata-0.11.0-py3-none-any.whl (61 kB)\n",
      "Downloading kagglehub-0.3.13-py3-none-any.whl (68 kB)\n",
      "Downloading hf_transfer-0.1.9-cp38-abi3-macosx_11_0_arm64.whl (1.3 MB)\n",
      "\u001b[2K   \u001b[90m━━━━━━━━━━━━━━━━━━━━━━━━━━━━━━━━━━━━━━━━\u001b[0m \u001b[32m1.3/1.3 MB\u001b[0m \u001b[31m391.3 kB/s\u001b[0m eta \u001b[36m0:00:00\u001b[0ma \u001b[36m0:00:01\u001b[0m\n",
      "\u001b[?25hInstalling collected packages: hf-transfer, kagglehub, torchdata, torchtune\n",
      "Successfully installed hf-transfer-0.1.9 kagglehub-0.3.13 torchdata-0.11.0 torchtune-0.6.1\n"
     ]
    }
   ],
   "source": [
    "import torchtune\n"
   ]
  },
  {
   "cell_type": "code",
   "execution_count": null,
   "id": "cc353516",
   "metadata": {},
   "outputs": [],
   "source": []
  }
 ],
 "metadata": {
  "kernelspec": {
   "display_name": "ml-env",
   "language": "python",
   "name": "python3"
  },
  "language_info": {
   "codemirror_mode": {
    "name": "ipython",
    "version": 3
   },
   "file_extension": ".py",
   "mimetype": "text/x-python",
   "name": "python",
   "nbconvert_exporter": "python",
   "pygments_lexer": "ipython3",
   "version": "3.12.2"
  }
 },
 "nbformat": 4,
 "nbformat_minor": 5
}
