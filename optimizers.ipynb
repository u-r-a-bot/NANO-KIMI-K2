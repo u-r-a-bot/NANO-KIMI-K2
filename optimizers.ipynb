{
 "cells": [
  {
   "cell_type": "markdown",
   "id": "5e8ba982",
   "metadata": {},
   "source": [
    "# Plain SGD"
   ]
  },
  {
   "cell_type": "code",
   "execution_count": 1,
   "id": "4aac7f7b",
   "metadata": {},
   "outputs": [],
   "source": [
    "import numpy as np"
   ]
  },
  {
   "cell_type": "code",
   "execution_count": 2,
   "id": "84b179fe",
   "metadata": {},
   "outputs": [],
   "source": [
    "class Optimizer_SGD():\n",
    "    def __init__(self, learning_rate):\n",
    "        self.learning_rate = learning_rate\n",
    "    \n",
    "    def update_params(self, layer):\n",
    "        layer.weights += -self.learning_rate * layer.dweights\n",
    "        layer.biases += -self.learning_rate * layer.dbiases"
   ]
  },
  {
   "cell_type": "markdown",
   "id": "3b57f2f0",
   "metadata": {},
   "source": [
    "# SGD with learning rate decay\n",
    "A decay is applied to learning rate based on the iterations over time\n",
    "$$\n",
    "\\text{learning\\_rate} = \\text{learning\\_rate} \\times \\left( \\frac{1}{1 + \\text{decay} \\cdot \\text{iterations}} \\right)\n",
    "$$\n"
   ]
  },
  {
   "cell_type": "code",
   "execution_count": null,
   "id": "ef2403c4",
   "metadata": {},
   "outputs": [],
   "source": [
    "class Optimizer_SGD_Decay():\n",
    "    def __init__(self, learning_rate=1, decay= 0 ):\n",
    "        self.learning_rate=  learning_rate\n",
    "        self.decay = decay\n",
    "        self.iterations = 0\n",
    "    \n",
    "    def pre_update_params(self):\n",
    "        if self.decay:\n",
    "            self.learning_rate = self.learning_rate *(1. /(1. + self.decay * self.iterations) )\n",
    "    \n",
    "    def update_params(self, layer):\n",
    "        layer.weights += -self.learning_rate * layer.dweights\n",
    "        layer.biases += -self.learning_rate * layer.dbiases\n",
    "        \n",
    "    def post_update_params(self):\n",
    "        self.iterations += 1\n",
    "    "
   ]
  },
  {
   "cell_type": "markdown",
   "id": "cc9bb6de",
   "metadata": {},
   "source": [
    "# SGD with Momentum\n",
    "$$\n",
    "\\text{momentum} = \\text{momentum} \\cdot \\text{momentum coefficient} - \\text{learning rate} \\cdot \\nabla J(\\text{weights})\n",
    "$$\n",
    "\n",
    "$$\n",
    "\\text{weights} = \\text{weights} + \\text{momentum}\n",
    "$$\n"
   ]
  },
  {
   "cell_type": "code",
   "execution_count": 5,
   "id": "176ab396",
   "metadata": {},
   "outputs": [],
   "source": [
    "class Optimizer_SGD_Momentum():\n",
    "    def __init__(self, learning_rate = 1, decay =0 ,momentum =0):\n",
    "        self.learning_rate= learning_rate\n",
    "        self.current_learning_rate = learning_rate\n",
    "        self.decay = decay\n",
    "        self.momentum = momentum\n",
    "        self.iterations = 0\n",
    "    \n",
    "    def pre_update_params(self):\n",
    "        if self.decay:\n",
    "            self.learning_rate = self.learning_rate *(1. /(1. + self.decay * self.iterations) )\n",
    "    \n",
    "    def update_params(self, layer):\n",
    "        if self.momentum:\n",
    "\n",
    "            if not hasattr(layer, 'weight_momentums'):\n",
    "                layer.weight_momentums = np.zeros_like(layer.weights)\n",
    "                layer.bias_momentums = np.zeros_like(layer.bias)\n",
    "            \n",
    "            weight_updates = self.momentum* layer.weight_momentums - self.current_learning_rate * layer.dweights\n",
    "            layer.weight_momentums = weight_updates\n",
    "\n",
    "            bias_updates = self.momentum* layer.bias_momentums - self.current_learning_rate*layer.dbiases\n",
    "            layer.bias_momentums = bias_updates\n",
    "        else:\n",
    "            weight_updates = -self.current_learning_rate * layer.dweights\n",
    "            bias_updates = -self.current_learning_rate * layer.dbiases\n",
    "        layer.weights += weight_updates\n",
    "        layer.biases += bias_updates\n",
    "    \n",
    "    def post_update_params(self):\n",
    "        self.iterations += 1\n",
    "        "
   ]
  },
  {
   "cell_type": "markdown",
   "id": "99f83e31",
   "metadata": {},
   "source": [
    "# AdaGrad\n",
    "Short for adaptive gradient is a method to "
   ]
  },
  {
   "cell_type": "code",
   "execution_count": null,
   "id": "6007987f",
   "metadata": {},
   "outputs": [],
   "source": []
  }
 ],
 "metadata": {
  "kernelspec": {
   "display_name": "ml-env",
   "language": "python",
   "name": "python3"
  },
  "language_info": {
   "codemirror_mode": {
    "name": "ipython",
    "version": 3
   },
   "file_extension": ".py",
   "mimetype": "text/x-python",
   "name": "python",
   "nbconvert_exporter": "python",
   "pygments_lexer": "ipython3",
   "version": "3.12.2"
  }
 },
 "nbformat": 4,
 "nbformat_minor": 5
}
